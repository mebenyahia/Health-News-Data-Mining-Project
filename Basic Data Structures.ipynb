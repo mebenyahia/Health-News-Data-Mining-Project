{
 "cells": [
  {
   "cell_type": "code",
   "execution_count": 1,
   "id": "7955af08",
   "metadata": {},
   "outputs": [],
   "source": [
    "import warnings\n",
    "warnings.filterwarnings('ignore')"
   ]
  },
  {
   "cell_type": "markdown",
   "id": "2d73c935",
   "metadata": {},
   "source": [
    "# Basic Data Structures\n",
    "### Numerical Data Types and Structures\n",
    "#### Arithmetic Operations\n",
    "Let's consider the following integers:"
   ]
  },
  {
   "cell_type": "code",
   "execution_count": 2,
   "id": "19998b1d",
   "metadata": {},
   "outputs": [],
   "source": [
    "x,y = 3,2"
   ]
  },
  {
   "cell_type": "markdown",
   "id": "8a83d1cc",
   "metadata": {},
   "source": [
    "Besides type casting, and the basic numerical operations ( *, +, - ...) \n",
    "We should keep in mind the operations for integer division (//) that returns a rounded integer value:\n",
    "Instead of 1.5, we get 1"
   ]
  },
  {
   "cell_type": "code",
   "execution_count": 3,
   "id": "b014cb43",
   "metadata": {},
   "outputs": [
    {
     "name": "stdout",
     "output_type": "stream",
     "text": [
      "1\n"
     ]
    }
   ],
   "source": [
    "print(x // y) # 3 // 2"
   ]
  },
  {
   "cell_type": "markdown",
   "id": "192a620b",
   "metadata": {},
   "source": [
    "#### Booleans\n",
    "Boolean data type internally uses integer values, meaning that\n",
    "False -> 0\n",
    "True -> 1\n"
   ]
  },
  {
   "cell_type": "code",
   "execution_count": 4,
   "id": "aecceb14",
   "metadata": {},
   "outputs": [
    {
     "name": "stdout",
     "output_type": "stream",
     "text": [
      "True\n"
     ]
    }
   ],
   "source": [
    "if 1:\n",
    "    print(True)"
   ]
  },
  {
   "cell_type": "code",
   "execution_count": 5,
   "id": "3ac47d15",
   "metadata": {},
   "outputs": [
    {
     "name": "stdout",
     "output_type": "stream",
     "text": [
      "False\n"
     ]
    }
   ],
   "source": [
    "if 0:\n",
    "    print(\"No printing\") #Nothing is printed\n",
    "else:\n",
    "    print(False)"
   ]
  },
  {
   "cell_type": "markdown",
   "id": "c8967d0b",
   "metadata": {},
   "source": [
    "#### Boolean Operator Precedence\n",
    "Order matters:\n",
    "For priority: not -> and -> or.\n",
    "'not' is always considered first, then 'and', finally 'or'."
   ]
  },
  {
   "cell_type": "code",
   "execution_count": 6,
   "id": "2c003300",
   "metadata": {},
   "outputs": [
    {
     "name": "stdout",
     "output_type": "stream",
     "text": [
      "True\n"
     ]
    }
   ],
   "source": [
    "T, F = True, False\n",
    "\n",
    "print(T and not F)"
   ]
  },
  {
   "cell_type": "code",
   "execution_count": 7,
   "id": "9fc55fd1",
   "metadata": {},
   "outputs": [
    {
     "name": "stdout",
     "output_type": "stream",
     "text": [
      "True\n"
     ]
    }
   ],
   "source": [
    "print(not T and F or T)"
   ]
  },
  {
   "cell_type": "code",
   "execution_count": 8,
   "id": "6751000f",
   "metadata": {},
   "outputs": [
    {
     "name": "stdout",
     "output_type": "stream",
     "text": [
      "False\n"
     ]
    }
   ],
   "source": [
    "print(not T and (F or T))"
   ]
  },
  {
   "cell_type": "markdown",
   "id": "0a26bfe0",
   "metadata": {},
   "source": [
    "Some values are automatically evaluated to False: the keyword None of NoneType data type, the integer value 0, the float value 0.0, empty strings or empty container types"
   ]
  },
  {
   "cell_type": "code",
   "execution_count": 9,
   "id": "229e5f2d",
   "metadata": {},
   "outputs": [
    {
     "name": "stdout",
     "output_type": "stream",
     "text": [
      "All are evaluated to false.\n"
     ]
    }
   ],
   "source": [
    "if not None and not 0 and not 0.0 and not \"\" and not [] and not {}:\n",
    "    print('All are evaluated to false.')"
   ]
  },
  {
   "cell_type": "markdown",
   "id": "5aff7c66",
   "metadata": {},
   "source": [
    "#### Strings\n",
    "Strings are an immutable data type: once the string object is created, we cannot change it unless we are making a new str object."
   ]
  },
  {
   "cell_type": "code",
   "execution_count": 10,
   "id": "33b0dbea",
   "metadata": {},
   "outputs": [
    {
     "name": "stdout",
     "output_type": "stream",
     "text": [
      "'str' object does not support item assignment\n"
     ]
    }
   ],
   "source": [
    "s = 'Immutable'\n",
    "try:\n",
    "    s[0] = 'm'\n",
    "except Exception as E:\n",
    "    print(E)"
   ]
  },
  {
   "cell_type": "markdown",
   "id": "8fbc3fa4",
   "metadata": {},
   "source": [
    "Some handy string methods:"
   ]
  },
  {
   "cell_type": "code",
   "execution_count": 11,
   "id": "aa5348f5",
   "metadata": {},
   "outputs": [
    {
     "data": {
      "text/plain": [
       "'Immutable'"
      ]
     },
     "execution_count": 11,
     "metadata": {},
     "output_type": "execute_result"
    }
   ],
   "source": [
    "s.strip() #removes dangling spaces"
   ]
  },
  {
   "cell_type": "code",
   "execution_count": 12,
   "id": "9440af58",
   "metadata": {},
   "outputs": [
    {
     "data": {
      "text/plain": [
       "'IMMUTABLE'"
      ]
     },
     "execution_count": 12,
     "metadata": {},
     "output_type": "execute_result"
    }
   ],
   "source": [
    "s.upper()"
   ]
  },
  {
   "cell_type": "code",
   "execution_count": 13,
   "id": "a4d451da",
   "metadata": {},
   "outputs": [
    {
     "data": {
      "text/plain": [
       "'immutable'"
      ]
     },
     "execution_count": 13,
     "metadata": {},
     "output_type": "execute_result"
    }
   ],
   "source": [
    "s.lower()"
   ]
  },
  {
   "cell_type": "code",
   "execution_count": 14,
   "id": "3287163e",
   "metadata": {},
   "outputs": [
    {
     "data": {
      "text/plain": [
       "'Immutable'"
      ]
     },
     "execution_count": 14,
     "metadata": {},
     "output_type": "execute_result"
    }
   ],
   "source": [
    "s.capitalize()"
   ]
  },
  {
   "cell_type": "code",
   "execution_count": 15,
   "id": "a19a0427",
   "metadata": {},
   "outputs": [
    {
     "data": {
      "text/plain": [
       "'immutable'"
      ]
     },
     "execution_count": 15,
     "metadata": {},
     "output_type": "execute_result"
    }
   ],
   "source": [
    "s.replace('I', 'i')"
   ]
  },
  {
   "cell_type": "code",
   "execution_count": 16,
   "id": "73e62541",
   "metadata": {},
   "outputs": [
    {
     "data": {
      "text/plain": [
       "False"
      ]
     },
     "execution_count": 16,
     "metadata": {},
     "output_type": "execute_result"
    }
   ],
   "source": [
    "s.startswith('i')"
   ]
  },
  {
   "cell_type": "code",
   "execution_count": 17,
   "id": "4f5d0b4a",
   "metadata": {},
   "outputs": [
    {
     "data": {
      "text/plain": [
       "True"
      ]
     },
     "execution_count": 17,
     "metadata": {},
     "output_type": "execute_result"
    }
   ],
   "source": [
    "s.endswith('e')"
   ]
  },
  {
   "cell_type": "code",
   "execution_count": 18,
   "id": "ad9f0889",
   "metadata": {},
   "outputs": [
    {
     "data": {
      "text/plain": [
       "True"
      ]
     },
     "execution_count": 18,
     "metadata": {},
     "output_type": "execute_result"
    }
   ],
   "source": [
    "'mu' in s"
   ]
  },
  {
   "cell_type": "code",
   "execution_count": 19,
   "id": "4655b3b8",
   "metadata": {},
   "outputs": [
    {
     "data": {
      "text/plain": [
       "2"
      ]
     },
     "execution_count": 19,
     "metadata": {},
     "output_type": "execute_result"
    }
   ],
   "source": [
    "s.find('mutable') #returns start index of substrings"
   ]
  },
  {
   "cell_type": "code",
   "execution_count": 20,
   "id": "d1393560",
   "metadata": {},
   "outputs": [
    {
     "data": {
      "text/plain": [
       "'I-m-m-u-t-a-b-l-e'"
      ]
     },
     "execution_count": 20,
     "metadata": {},
     "output_type": "execute_result"
    }
   ],
   "source": [
    "\"-\".join(s)"
   ]
  },
  {
   "cell_type": "code",
   "execution_count": 21,
   "id": "ed4cf8b1",
   "metadata": {},
   "outputs": [
    {
     "data": {
      "text/plain": [
       "9"
      ]
     },
     "execution_count": 21,
     "metadata": {},
     "output_type": "execute_result"
    }
   ],
   "source": [
    "len(s)"
   ]
  },
  {
   "cell_type": "markdown",
   "id": "77d96979",
   "metadata": {},
   "source": [
    "#### Keyword None\n",
    "None means the *absence* of a value. Although 'if None' returns False: None is different from an empty string, or container type. It simply means the *ABSENCE* or the non-existence of the object. "
   ]
  },
  {
   "cell_type": "code",
   "execution_count": 22,
   "id": "f3c9cc40",
   "metadata": {},
   "outputs": [
    {
     "name": "stdout",
     "output_type": "stream",
     "text": [
      "False False False\n"
     ]
    }
   ],
   "source": [
    "print(\"\" == None, 0 == None, [] is None)"
   ]
  },
  {
   "cell_type": "code",
   "execution_count": 23,
   "id": "2b679bdc",
   "metadata": {},
   "outputs": [
    {
     "name": "stdout",
     "output_type": "stream",
     "text": [
      "I do not return anything\n",
      "True\n"
     ]
    }
   ],
   "source": [
    "def functionthatreturnsNone():\n",
    "    print('I do not return anything')\n",
    "\n",
    "print(functionthatreturnsNone() == None)"
   ]
  },
  {
   "cell_type": "markdown",
   "id": "be70efea",
   "metadata": {},
   "source": [
    "#### Container Data Structures\n",
    "**lists** are mutable, unlike strings. They are modifiable at runtime."
   ]
  },
  {
   "cell_type": "code",
   "execution_count": 24,
   "id": "db3bdbcb",
   "metadata": {},
   "outputs": [
    {
     "name": "stdout",
     "output_type": "stream",
     "text": [
      "['No', 2, 3]\n"
     ]
    }
   ],
   "source": [
    "ls = [1,2,3]\n",
    "ls[0] = 'No'\n",
    "print(ls)"
   ]
  },
  {
   "cell_type": "markdown",
   "id": "3dcd87d6",
   "metadata": {},
   "source": [
    "#### Keyword 'is'\n",
    "'is' simply checks if both vars refer to the same object in memory (not the values!). It's an operator to compare objects. "
   ]
  },
  {
   "cell_type": "code",
   "execution_count": 25,
   "id": "a8684dad",
   "metadata": {},
   "outputs": [
    {
     "name": "stdout",
     "output_type": "stream",
     "text": [
      "False\n"
     ]
    }
   ],
   "source": [
    "print([1] is [1])"
   ]
  },
  {
   "cell_type": "code",
   "execution_count": 26,
   "id": "158835f3",
   "metadata": {
    "scrolled": true
   },
   "outputs": [
    {
     "name": "stdout",
     "output_type": "stream",
     "text": [
      "True\n"
     ]
    }
   ],
   "source": [
    "print(1 is 1)"
   ]
  },
  {
   "cell_type": "code",
   "execution_count": 27,
   "id": "65599e3f",
   "metadata": {},
   "outputs": [
    {
     "name": "stdout",
     "output_type": "stream",
     "text": [
      "True\n"
     ]
    }
   ],
   "source": [
    "print(\"Why\" is \"Why\")"
   ]
  },
  {
   "cell_type": "markdown",
   "id": "e3eb5339",
   "metadata": {},
   "source": [
    "Why is that you ask? Why does one return False while the other returns True? Lists, even if they contain the same elements, refer to two different objects in memory. Modifying one list does not affect the other one, and the 'is' keyword compares objects not values! Integer and String values are immutable, therefore they will always point to same value. Changing a string or an integer value is equivalent to creating a new object."
   ]
  },
  {
   "cell_type": "code",
   "execution_count": 28,
   "id": "c8f30e1d",
   "metadata": {},
   "outputs": [
    {
     "name": "stdout",
     "output_type": "stream",
     "text": [
      "True\n"
     ]
    }
   ],
   "source": [
    "ls1 = ls\n",
    "print(ls1 is ls)"
   ]
  },
  {
   "cell_type": "code",
   "execution_count": 29,
   "id": "1efc1972",
   "metadata": {},
   "outputs": [
    {
     "name": "stdout",
     "output_type": "stream",
     "text": [
      "['Yes', 2, 3]\n"
     ]
    }
   ],
   "source": [
    "ls1[0] = 'Yes'\n",
    "print(ls)"
   ]
  },
  {
   "cell_type": "markdown",
   "id": "cabf3513",
   "metadata": {},
   "source": [
    "Since both lists point to the same object in memory, ls1 is ls returns True and modifying ls1 modifies ls as well."
   ]
  },
  {
   "cell_type": "markdown",
   "id": "8175ac10",
   "metadata": {},
   "source": [
    "#### Adding Elements\n",
    "Which one is faster?"
   ]
  },
  {
   "cell_type": "code",
   "execution_count": 30,
   "id": "d8727104",
   "metadata": {},
   "outputs": [
    {
     "name": "stdout",
     "output_type": "stream",
     "text": [
      "[1, 2, 4]\n"
     ]
    }
   ],
   "source": [
    "l = [1,2]\n",
    "l.append(4)\n",
    "print(l)"
   ]
  },
  {
   "cell_type": "code",
   "execution_count": 31,
   "id": "3306fa0b",
   "metadata": {},
   "outputs": [
    {
     "name": "stdout",
     "output_type": "stream",
     "text": [
      "[1, 2, 4]\n"
     ]
    }
   ],
   "source": [
    "l = [1,2]\n",
    "l.insert(2, 4) #insert number 4 at index 2\n",
    "print(l)"
   ]
  },
  {
   "cell_type": "code",
   "execution_count": 32,
   "id": "7fb90827",
   "metadata": {
    "scrolled": true
   },
   "outputs": [
    {
     "name": "stdout",
     "output_type": "stream",
     "text": [
      "[1, 2, 4]\n"
     ]
    }
   ],
   "source": [
    "l = [1,2]\n",
    "print(l + [4])"
   ]
  },
  {
   "cell_type": "markdown",
   "id": "efcfd838",
   "metadata": {},
   "source": [
    "All three operations generate the same list: [1, 2, 4]. However the fastest one is *append* since it doesn't traverse the list to insert at the correct position (as with the .insert() function), nor creates a new list out of the sublists (concatenation using + operator)."
   ]
  },
  {
   "cell_type": "code",
   "execution_count": 33,
   "id": "e1f00722",
   "metadata": {},
   "outputs": [
    {
     "name": "stdout",
     "output_type": "stream",
     "text": [
      "[1, 2, 3, 4]\n"
     ]
    }
   ],
   "source": [
    "l = [1,2]\n",
    "l.extend([3,4]) #efficient way to append multiple elements\n",
    "print(l)"
   ]
  },
  {
   "cell_type": "markdown",
   "id": "f4099185",
   "metadata": {},
   "source": [
    ".extend() and .append() are good when you want to operate on the list object itself. It helps reduce memory overhead by reducing redundant copies of the same list data."
   ]
  },
  {
   "cell_type": "markdown",
   "id": "0ed8bd7a",
   "metadata": {},
   "source": [
    "#### Removing elements\n",
    "the .remove() method operates on the list object itself. It works by removing the first matching item at the first index."
   ]
  },
  {
   "cell_type": "code",
   "execution_count": 34,
   "id": "6d65fd5f",
   "metadata": {},
   "outputs": [
    {
     "name": "stdout",
     "output_type": "stream",
     "text": [
      "[1, 3, 2, 2]\n"
     ]
    }
   ],
   "source": [
    "l = [1, 2, 3, 2, 2]\n",
    "l.remove(2)\n",
    "print(l)"
   ]
  },
  {
   "cell_type": "markdown",
   "id": "4c2a6aaf",
   "metadata": {},
   "source": [
    "#### Reverse list\n",
    "The .reverse() method modifies the original object, if you to not modify the original use reversed().\n",
    "Slicing creates a whole new list, copying every element from the original. reversed() returns an iterator that walks the original list in reverse order and doesn't copy anything. Thus, both reverse() and reversed() are faster than the [::-1] slicing method. '.reverse()' has a time complexity of O(n), which is fair. "
   ]
  },
  {
   "cell_type": "code",
   "execution_count": 35,
   "id": "dfdaa061",
   "metadata": {},
   "outputs": [
    {
     "name": "stdout",
     "output_type": "stream",
     "text": [
      "[3, 2, 1]\n"
     ]
    }
   ],
   "source": [
    "lis = [1,2,3]\n",
    "lis.reverse()\n",
    "print(lis)"
   ]
  },
  {
   "cell_type": "code",
   "execution_count": 36,
   "id": "7ca6f296",
   "metadata": {},
   "outputs": [
    {
     "name": "stdout",
     "output_type": "stream",
     "text": [
      "<list_reverseiterator object at 0x00000174FB45C5E0>\n"
     ]
    }
   ],
   "source": [
    "print(reversed(lis)) #iterator"
   ]
  },
  {
   "cell_type": "code",
   "execution_count": 37,
   "id": "a0b33039",
   "metadata": {},
   "outputs": [
    {
     "name": "stdout",
     "output_type": "stream",
     "text": [
      "[1, 2, 3]\n"
     ]
    }
   ],
   "source": [
    "print(list(reversed(lis)))"
   ]
  },
  {
   "cell_type": "markdown",
   "id": "5731dbae",
   "metadata": {},
   "source": [
    "#### Sorting Lists\n",
    "Using the method .sort(), we are modifying the original list object. It uses the Timsort algorithm which has a runtime complexity of O(n.logn), which is bad but not horrible. Keep that in mind."
   ]
  },
  {
   "cell_type": "code",
   "execution_count": 38,
   "id": "13b5b64f",
   "metadata": {},
   "outputs": [
    {
     "name": "stdout",
     "output_type": "stream",
     "text": [
      "[1, 4, 5, 99, 343]\n",
      "[343, 99, 5, 4, 1]\n"
     ]
    }
   ],
   "source": [
    "l = [1, 4, 99, 5, 343]\n",
    "l.sort()\n",
    "print(l)\n",
    "l.sort(reverse=True)\n",
    "print(l)"
   ]
  },
  {
   "cell_type": "markdown",
   "id": "14539b48",
   "metadata": {},
   "source": [
    "#### Indexing List Elements\n",
    ".index(element, start, end) returns the first occurence of the element in the list. If we want the nth occurence of an element, we have to specify it. Be careful to only use it for elements in the list, or to check before otherwhise you'll get an exception."
   ]
  },
  {
   "cell_type": "code",
   "execution_count": 39,
   "id": "baf9a4c3",
   "metadata": {},
   "outputs": [
    {
     "data": {
      "text/plain": [
       "0"
      ]
     },
     "execution_count": 39,
     "metadata": {},
     "output_type": "execute_result"
    }
   ],
   "source": [
    "L = ['cat', 'dog', 'cat']\n",
    "L.index('cat') #returned the index of the first occurence of 'cat' in the list."
   ]
  },
  {
   "cell_type": "code",
   "execution_count": 40,
   "id": "53898ff5",
   "metadata": {},
   "outputs": [
    {
     "data": {
      "text/plain": [
       "'cat'"
      ]
     },
     "execution_count": 40,
     "metadata": {},
     "output_type": "execute_result"
    }
   ],
   "source": [
    "L[0]"
   ]
  },
  {
   "cell_type": "code",
   "execution_count": 41,
   "id": "6eaa81ea",
   "metadata": {},
   "outputs": [
    {
     "data": {
      "text/plain": [
       "2"
      ]
     },
     "execution_count": 41,
     "metadata": {},
     "output_type": "execute_result"
    }
   ],
   "source": [
    "L.index('cat',1) #returns the index of the occurence of 'cat' in the list from start index 1"
   ]
  },
  {
   "cell_type": "code",
   "execution_count": 42,
   "id": "16a5b2e3",
   "metadata": {},
   "outputs": [
    {
     "name": "stdout",
     "output_type": "stream",
     "text": [
      "'elephant' is not in list\n"
     ]
    }
   ],
   "source": [
    "try:\n",
    "    L.index('elephant')\n",
    "except Exception as E:\n",
    "    print(E)"
   ]
  },
  {
   "cell_type": "markdown",
   "id": "4656fd2b",
   "metadata": {},
   "source": [
    "#### Stacks\n",
    "Python lists can be intuitively used a stacks with the operations '.append()' to add, and '.pop()' to remove most recently added item."
   ]
  },
  {
   "cell_type": "code",
   "execution_count": 43,
   "id": "cfc08b9f",
   "metadata": {},
   "outputs": [
    {
     "name": "stdout",
     "output_type": "stream",
     "text": [
      "[1]\n"
     ]
    }
   ],
   "source": [
    "stack = []\n",
    "stack.append(1)\n",
    "print(stack)"
   ]
  },
  {
   "cell_type": "code",
   "execution_count": 44,
   "id": "bdcf84e0",
   "metadata": {},
   "outputs": [
    {
     "name": "stdout",
     "output_type": "stream",
     "text": [
      "[]\n"
     ]
    }
   ],
   "source": [
    "stack.pop()\n",
    "print(stack)"
   ]
  },
  {
   "cell_type": "markdown",
   "id": "214608c4",
   "metadata": {},
   "source": [
    "#### Sets\n",
    "A set is an unordered and not subscriptable collection of unique elements. "
   ]
  },
  {
   "cell_type": "code",
   "execution_count": 45,
   "id": "fa537308",
   "metadata": {},
   "outputs": [
    {
     "name": "stdout",
     "output_type": "stream",
     "text": [
      "{1, 2, 3}\n"
     ]
    }
   ],
   "source": [
    "sets = set([1,3,2,3])\n",
    "print(sets)"
   ]
  },
  {
   "cell_type": "markdown",
   "id": "49a28b5d",
   "metadata": {},
   "source": [
    "**Unique means that all set elements must be unique and that there are no duplicates. Unordered means that regardless of the order the elements were put in, we can never be sure of the order of the elements. Thus unordered means also not subscriptable.**"
   ]
  },
  {
   "cell_type": "code",
   "execution_count": 46,
   "id": "585c086c",
   "metadata": {},
   "outputs": [
    {
     "name": "stdout",
     "output_type": "stream",
     "text": [
      "'set' object is not subscriptable\n"
     ]
    }
   ],
   "source": [
    "try:\n",
    "    print(sets[0])\n",
    "except Exception as E:\n",
    "    print(E)"
   ]
  },
  {
   "cell_type": "markdown",
   "id": "1fd776ef",
   "metadata": {},
   "source": [
    "#### Collection\n",
    "A set is a collection like a list or a tuple. Collections can consist of primitive (ints, float, str) or complex elements (lists, objects). All elements of a set **must** be hashable. An object is **hashable** if it has a hash value that does not change during its entire lifetime: All **immutable built-in objects in Python are hashable**, while **mutable containers like lists and dictionaries are not hashable**. "
   ]
  },
  {
   "cell_type": "code",
   "execution_count": 47,
   "id": "b77b4062",
   "metadata": {},
   "outputs": [
    {
     "name": "stdout",
     "output_type": "stream",
     "text": [
      "8380024708159909457\n"
     ]
    }
   ],
   "source": [
    "stri = 'Strings are immutable'\n",
    "print(hash(stri))"
   ]
  },
  {
   "cell_type": "code",
   "execution_count": 48,
   "id": "3b034929",
   "metadata": {},
   "outputs": [
    {
     "name": "stdout",
     "output_type": "stream",
     "text": [
      "unhashable type: 'list'\n"
     ]
    }
   ],
   "source": [
    "try:\n",
    "    hash([1,2,3])\n",
    "except Exception as E:\n",
    "    print(E)"
   ]
  },
  {
   "cell_type": "code",
   "execution_count": 49,
   "id": "8a23325a",
   "metadata": {},
   "outputs": [
    {
     "name": "stdout",
     "output_type": "stream",
     "text": [
      "unhashable type: 'list'\n"
     ]
    }
   ],
   "source": [
    "try:\n",
    "    test = { [1, 2] , 'hash'}\n",
    "except Exception as E:\n",
    "    print(E)"
   ]
  },
  {
   "cell_type": "markdown",
   "id": "6c6b1ab7",
   "metadata": {},
   "source": [
    "**The set data type allows for only hashable elements.**"
   ]
  },
  {
   "cell_type": "markdown",
   "id": "df6736ea",
   "metadata": {},
   "source": [
    "#### Dictionaries\n",
    "Dictionaries are data structures that key for value pairs."
   ]
  },
  {
   "cell_type": "code",
   "execution_count": 50,
   "id": "9c9ca689",
   "metadata": {},
   "outputs": [
    {
     "name": "stdout",
     "output_type": "stream",
     "text": [
      "4\n"
     ]
    }
   ],
   "source": [
    "caloriedict = {'cherry':4, 'egg': 90}\n",
    "print(caloriedict['cherry']) "
   ]
  },
  {
   "cell_type": "code",
   "execution_count": 51,
   "id": "54dc2349",
   "metadata": {},
   "outputs": [
    {
     "name": "stdout",
     "output_type": "stream",
     "text": [
      "dict_items([('cherry', 4), ('egg', 90)])\n"
     ]
    }
   ],
   "source": [
    "print(caloriedict.items())"
   ]
  },
  {
   "cell_type": "code",
   "execution_count": 52,
   "id": "b7753673",
   "metadata": {},
   "outputs": [
    {
     "name": "stdout",
     "output_type": "stream",
     "text": [
      "dict_keys(['cherry', 'egg'])\n"
     ]
    }
   ],
   "source": [
    "print(caloriedict.keys())"
   ]
  },
  {
   "cell_type": "code",
   "execution_count": 53,
   "id": "c2ba79a7",
   "metadata": {},
   "outputs": [
    {
     "name": "stdout",
     "output_type": "stream",
     "text": [
      "dict_values([4, 90])\n"
     ]
    }
   ],
   "source": [
    "print(caloriedict.values())"
   ]
  },
  {
   "cell_type": "markdown",
   "id": "a4590c70",
   "metadata": {},
   "source": [
    "**caloriedict.items(), caloriedict.keys() and caloriedict.values() can be used to iterate over the dictionary**"
   ]
  },
  {
   "cell_type": "markdown",
   "id": "4d2bd95d",
   "metadata": {},
   "source": [
    "#### Keyword 'in' and Membership\n",
    "'in' can be used to test membership of an element in a list, string or set. 'in' can only be used with iterable elements (An iterable is any Python object capable of returning its members one at a time, permitting it to be iterated over in a for-loop)."
   ]
  },
  {
   "cell_type": "code",
   "execution_count": 54,
   "id": "62c75542",
   "metadata": {},
   "outputs": [
    {
     "name": "stdout",
     "output_type": "stream",
     "text": [
      "True True True\n"
     ]
    }
   ],
   "source": [
    "print(1 in {1,2}, 1 in [1], 1 in {1:'one'})"
   ]
  },
  {
   "cell_type": "markdown",
   "id": "ce5c6716",
   "metadata": {},
   "source": [
    "Checking set membership is faster than checking list membership. Why? Because sets, just like dictionaries, are implemented such as that Python needs to internally only perform one operation: for x in y y[hash(x)] and returns True if the return value is not None. The time complexity in that case is O(1) which is excellent. "
   ]
  },
  {
   "cell_type": "markdown",
   "id": "39fca0eb",
   "metadata": {},
   "source": [
    "#### List and Set Comprehension"
   ]
  },
  {
   "cell_type": "code",
   "execution_count": 55,
   "id": "38e99e55",
   "metadata": {},
   "outputs": [
    {
     "name": "stdout",
     "output_type": "stream",
     "text": [
      "['b', 'a', 'n', 'a', 'n', 'a']\n"
     ]
    }
   ],
   "source": [
    "b = [char for char in 'banana']\n",
    "print(b)"
   ]
  },
  {
   "cell_type": "code",
   "execution_count": 56,
   "id": "ebc9b946",
   "metadata": {},
   "outputs": [
    {
     "name": "stdout",
     "output_type": "stream",
     "text": [
      "{'n', 'b', 'a'}\n"
     ]
    }
   ],
   "source": [
    "bset = {char for char in 'banana'}\n",
    "print(bset)"
   ]
  },
  {
   "cell_type": "markdown",
   "id": "8500c57c",
   "metadata": {},
   "source": [
    "#### Lambda\n",
    "Anonymous functions not defined in the name space, and typically intended for single-use. lambda <arg> : <return>"
   ]
  },
  {
   "cell_type": "code",
   "execution_count": 57,
   "id": "1f0a07df",
   "metadata": {},
   "outputs": [
    {
     "name": "stdout",
     "output_type": "stream",
     "text": [
      "9\n"
     ]
    }
   ],
   "source": [
    "square = lambda x : x*x\n",
    "print(square(3))"
   ]
  },
  {
   "cell_type": "code",
   "execution_count": null,
   "id": "a52a6eed",
   "metadata": {},
   "outputs": [],
   "source": []
  }
 ],
 "metadata": {
  "kernelspec": {
   "display_name": "Python 3 (ipykernel)",
   "language": "python",
   "name": "python3"
  },
  "language_info": {
   "codemirror_mode": {
    "name": "ipython",
    "version": 3
   },
   "file_extension": ".py",
   "mimetype": "text/x-python",
   "name": "python",
   "nbconvert_exporter": "python",
   "pygments_lexer": "ipython3",
   "version": "3.10.5"
  }
 },
 "nbformat": 4,
 "nbformat_minor": 5
}
