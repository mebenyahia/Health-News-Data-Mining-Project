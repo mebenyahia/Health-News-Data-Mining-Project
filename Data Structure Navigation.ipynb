{
 "cells": [
  {
   "cell_type": "markdown",
   "id": "f062cc06",
   "metadata": {},
   "source": [
    "### Tuples\n",
    "Ordered, Immutable, has/allows duplicates (Not unique). Tuples are more efficient and faster than lists. <br>\n",
    "Unpacking:"
   ]
  },
  {
   "cell_type": "code",
   "execution_count": 1,
   "id": "14bbaf6b",
   "metadata": {},
   "outputs": [
    {
     "name": "stdout",
     "output_type": "stream",
     "text": [
      "start: 0\n",
      "elements:[1, 2, 3]\n",
      "end:4\n"
     ]
    }
   ],
   "source": [
    "mytup = (0, 1, 2, 3, 4)\n",
    "start , *elements , end = mytup\n",
    "print('start: {}\\nelements:{}\\nend:{}'.format(start, elements, end))"
   ]
  },
  {
   "cell_type": "markdown",
   "id": "5be608e8",
   "metadata": {},
   "source": [
    "### Sets\n",
    "Unordered, mutable, unique."
   ]
  },
  {
   "cell_type": "code",
   "execution_count": 2,
   "id": "4805f6e5",
   "metadata": {},
   "outputs": [
    {
     "name": "stdout",
     "output_type": "stream",
     "text": [
      "'frozenset' object has no attribute 'add'\n"
     ]
    }
   ],
   "source": [
    "a = frozenset({1, 2}) #if you want your set to be mutable\n",
    "try:\n",
    "    a.add(3)\n",
    "except Exception as E:\n",
    "    print(E)"
   ]
  },
  {
   "cell_type": "markdown",
   "id": "565286a3",
   "metadata": {},
   "source": [
    "You can .add(), .remove(), .pop(), .clear() from a set. Except that add() adds a value at an arbitrary index and pop() removes at an arbitrary index since sets are **unordered**. "
   ]
  },
  {
   "cell_type": "code",
   "execution_count": 3,
   "id": "9d91ea33",
   "metadata": {},
   "outputs": [
    {
     "name": "stdout",
     "output_type": "stream",
     "text": [
      "{1, 2, 3, 5, 6, 7}\n",
      "{2, 3, 5, 6, 7}\n"
     ]
    }
   ],
   "source": [
    "addpop = {1, 2, 5, 3, 6}\n",
    "addpop.add(7)\n",
    "print(addpop)\n",
    "addpop.pop()\n",
    "print(addpop)"
   ]
  },
  {
   "cell_type": "markdown",
   "id": "ed083539",
   "metadata": {},
   "source": [
    "### Set Theory: union, intersection, and difference"
   ]
  },
  {
   "cell_type": "code",
   "execution_count": 4,
   "id": "0f38c478",
   "metadata": {},
   "outputs": [],
   "source": [
    "odds = {1, 3, 5}\n",
    "evens = {2, 4, 6}"
   ]
  },
  {
   "cell_type": "markdown",
   "id": "07d7e567",
   "metadata": {},
   "source": [
    "**.union() joins all number from both sets without duplication.** <br>You can use it to join two sets."
   ]
  },
  {
   "cell_type": "code",
   "execution_count": 5,
   "id": "ce601f34",
   "metadata": {},
   "outputs": [
    {
     "data": {
      "text/plain": [
       "{1, 2, 3, 4, 5, 6}"
      ]
     },
     "execution_count": 5,
     "metadata": {},
     "output_type": "execute_result"
    }
   ],
   "source": [
    "odds.union(evens)"
   ]
  },
  {
   "cell_type": "code",
   "execution_count": 6,
   "id": "53c65236",
   "metadata": {},
   "outputs": [
    {
     "data": {
      "text/plain": [
       "{1, 2, 3, 4, 5, 6}"
      ]
     },
     "execution_count": 6,
     "metadata": {},
     "output_type": "execute_result"
    }
   ],
   "source": [
    "numbers = odds.union(evens)\n",
    "numbers"
   ]
  },
  {
   "cell_type": "markdown",
   "id": "3625cdf8",
   "metadata": {},
   "source": [
    "**.intersection() returns the elements in common.**"
   ]
  },
  {
   "cell_type": "code",
   "execution_count": 7,
   "id": "d4fa8001",
   "metadata": {},
   "outputs": [
    {
     "data": {
      "text/plain": [
       "{2, 4, 6}"
      ]
     },
     "execution_count": 7,
     "metadata": {},
     "output_type": "execute_result"
    }
   ],
   "source": [
    "numbers.intersection(evens)"
   ]
  },
  {
   "cell_type": "markdown",
   "id": "dfdc5fae",
   "metadata": {},
   "source": [
    "**.difference() returns elements strictly in setA and excluding common ones with setB.**<br>\n",
    "for setA.difference(setB)"
   ]
  },
  {
   "cell_type": "code",
   "execution_count": 8,
   "id": "7bbc0f32",
   "metadata": {},
   "outputs": [
    {
     "data": {
      "text/plain": [
       "{1, 3, 5}"
      ]
     },
     "execution_count": 8,
     "metadata": {},
     "output_type": "execute_result"
    }
   ],
   "source": [
    "numbers.difference(evens)"
   ]
  },
  {
   "cell_type": "code",
   "execution_count": 9,
   "id": "61454650",
   "metadata": {},
   "outputs": [
    {
     "data": {
      "text/plain": [
       "{1, 2, 3, 6, 7, 8}"
      ]
     },
     "execution_count": 9,
     "metadata": {},
     "output_type": "execute_result"
    }
   ],
   "source": [
    "setA = {1,2,3,4,5}\n",
    "setB = {4,5,6,7,8}\n",
    "setA.symmetric_difference(setB) # setA + setB - (setA intersection setB) = {1,2,3,4,5} + {4,5,6,7,8} - {4,5} = {1,2,3,6,7,8}"
   ]
  },
  {
   "cell_type": "code",
   "execution_count": 10,
   "id": "62b9871f",
   "metadata": {
    "scrolled": true
   },
   "outputs": [
    {
     "data": {
      "text/plain": [
       "False"
      ]
     },
     "execution_count": 10,
     "metadata": {},
     "output_type": "execute_result"
    }
   ],
   "source": [
    "numbers.issubset(evens) #returns True if 'evens' is a subset of 'numbers'"
   ]
  },
  {
   "cell_type": "code",
   "execution_count": 11,
   "id": "f30fb7a3",
   "metadata": {},
   "outputs": [
    {
     "data": {
      "text/plain": [
       "True"
      ]
     },
     "execution_count": 11,
     "metadata": {},
     "output_type": "execute_result"
    }
   ],
   "source": [
    "evens.isdisjoint(odds) #returns True if 'evens' doesn't interset or have elements in common with 'odds'"
   ]
  },
  {
   "cell_type": "markdown",
   "id": "b29136b0",
   "metadata": {},
   "source": [
    "***.update() adds elements of setB to setA***<br>for setA.update(setB)"
   ]
  },
  {
   "cell_type": "code",
   "execution_count": 12,
   "id": "c11538a4",
   "metadata": {},
   "outputs": [
    {
     "name": "stdout",
     "output_type": "stream",
     "text": [
      "{0, 1, 2, 3, 4, 5, 6, 9, 10}\n"
     ]
    }
   ],
   "source": [
    "numbers.update({0, 9, 10})\n",
    "print(numbers)"
   ]
  },
  {
   "cell_type": "code",
   "execution_count": 13,
   "id": "1b21eca8",
   "metadata": {},
   "outputs": [
    {
     "data": {
      "text/plain": [
       "{4, 5}"
      ]
     },
     "execution_count": 13,
     "metadata": {},
     "output_type": "execute_result"
    }
   ],
   "source": [
    "setA = {1,2,3,4,5}\n",
    "setB = {4,5,6,7,8}\n",
    "setA.intersection_update(setB) # (setA intersection setB) = {4,5}\n",
    "setA"
   ]
  },
  {
   "cell_type": "markdown",
   "id": "b495e9d9",
   "metadata": {},
   "source": [
    "Assigns the intersection of numbers: {0, 1, 2, 3, 4, 5, 6, 9, 10} with evens: {2, 4, 6}, which is the elements in common between the two to numbers."
   ]
  },
  {
   "cell_type": "code",
   "execution_count": 14,
   "id": "13560fd7",
   "metadata": {},
   "outputs": [
    {
     "data": {
      "text/plain": [
       "{1, 2, 3}"
      ]
     },
     "execution_count": 14,
     "metadata": {},
     "output_type": "execute_result"
    }
   ],
   "source": [
    "setA = {1,2,3,4,5}\n",
    "setB = {4,5,6,7,8}\n",
    "setA.difference_update(setB) # setA - (setA intersection setB) = {1,2,3,4,5} - {4,5} = {1,2,3}\n",
    "setA"
   ]
  },
  {
   "cell_type": "markdown",
   "id": "0f3455e2",
   "metadata": {},
   "source": [
    "### Collections: counter, namedtuple, ordereddict, defaultdict, deque"
   ]
  },
  {
   "cell_type": "markdown",
   "id": "54ec67e6",
   "metadata": {},
   "source": [
    "#### Counter\n",
    "Counter is a subclass of dict. Constructing it is O(n), because it has to iterate over the input, but operations on individual elements remain O(1)."
   ]
  },
  {
   "cell_type": "code",
   "execution_count": 15,
   "id": "0b1d1642",
   "metadata": {},
   "outputs": [
    {
     "name": "stdout",
     "output_type": "stream",
     "text": [
      "Counter({'c': 3, 'b': 2, 'a': 1})\n"
     ]
    }
   ],
   "source": [
    "from collections import Counter\n",
    "a = \"abbccc\"\n",
    "mycount = Counter(a) # -> returns a dictionary with occurences of each element.\n",
    "print(mycount)"
   ]
  },
  {
   "cell_type": "code",
   "execution_count": 16,
   "id": "1539b7f9",
   "metadata": {},
   "outputs": [
    {
     "data": {
      "text/plain": [
       "[('c', 3), ('b', 2), ('a', 1)]"
      ]
     },
     "execution_count": 16,
     "metadata": {},
     "output_type": "execute_result"
    }
   ],
   "source": [
    "mycount.most_common() #-> returns list of ordered tuples by frequency."
   ]
  },
  {
   "cell_type": "code",
   "execution_count": 17,
   "id": "91e89435",
   "metadata": {},
   "outputs": [
    {
     "data": {
      "text/plain": [
       "[('c', 3)]"
      ]
     },
     "execution_count": 17,
     "metadata": {},
     "output_type": "execute_result"
    }
   ],
   "source": [
    "mycount.most_common(1) #-> max"
   ]
  },
  {
   "cell_type": "code",
   "execution_count": 18,
   "id": "3eaba7f9",
   "metadata": {},
   "outputs": [
    {
     "data": {
      "text/plain": [
       "['a', 'b', 'b', 'c', 'c', 'c']"
      ]
     },
     "execution_count": 18,
     "metadata": {},
     "output_type": "execute_result"
    }
   ],
   "source": [
    "list(mycount.elements()) #-> returns iterable obj that can be converted to a list"
   ]
  },
  {
   "cell_type": "markdown",
   "id": "9a0f28f3",
   "metadata": {},
   "source": [
    "#### namedtuple\n",
    "Object = namedtuple(class name, field or fields separated by a comma or space)"
   ]
  },
  {
   "cell_type": "code",
   "execution_count": 19,
   "id": "5a61b12c",
   "metadata": {},
   "outputs": [
    {
     "name": "stdout",
     "output_type": "stream",
     "text": [
      "Point(x=1, y=2, z=3)\n"
     ]
    }
   ],
   "source": [
    "from collections import namedtuple\n",
    "\n",
    "Point = namedtuple('Point', 'x y z')\n",
    "p1 = Point(1,2,3)\n",
    "print(p1)"
   ]
  },
  {
   "cell_type": "code",
   "execution_count": 20,
   "id": "d0a71cc6",
   "metadata": {},
   "outputs": [
    {
     "data": {
      "text/plain": [
       "1"
      ]
     },
     "execution_count": 20,
     "metadata": {},
     "output_type": "execute_result"
    }
   ],
   "source": [
    "p1.x"
   ]
  },
  {
   "cell_type": "markdown",
   "id": "5b184f3f",
   "metadata": {},
   "source": [
    "#### OrderedDict\n",
    "Dictionary that remembers the order of insertion (Although this is now garanteed by version of python 3.7 and superior for normal dictionaries)"
   ]
  },
  {
   "cell_type": "code",
   "execution_count": 21,
   "id": "69a2314b",
   "metadata": {},
   "outputs": [
    {
     "name": "stdout",
     "output_type": "stream",
     "text": [
      "OrderedDict([('fruit', ['apple', 'kiwi']), ('vegetable', ['potato', 'carrot'])])\n"
     ]
    }
   ],
   "source": [
    "from collections import OrderedDict\n",
    "\n",
    "ord_dic = OrderedDict()\n",
    "\n",
    "ord_dic['fruit'] = ['apple', 'kiwi']\n",
    "ord_dic['vegetable'] = ['potato', 'carrot']\n",
    "\n",
    "print(ord_dic)"
   ]
  },
  {
   "cell_type": "markdown",
   "id": "8350ce1e",
   "metadata": {},
   "source": [
    "#### defaultdict\n",
    "A dictionary for which you can set default values if the key hasn't been set yet. Instead of getting an error, you get the default val."
   ]
  },
  {
   "cell_type": "code",
   "execution_count": 22,
   "id": "36c9915f",
   "metadata": {},
   "outputs": [
    {
     "name": "stdout",
     "output_type": "stream",
     "text": [
      "0\n"
     ]
    }
   ],
   "source": [
    "from collections import defaultdict\n",
    "\n",
    "defdict = defaultdict(int)\n",
    "print(defdict['key isnt set yet'])"
   ]
  },
  {
   "cell_type": "markdown",
   "id": "0fe165f8",
   "metadata": {},
   "source": [
    "#### deque\n",
    "Mutable, ordered, has/allows duplicates <br>\n",
    "Deque stands for doubly ended queue, an abstract data type from which we can remove or add elements at the head and the tail. It's preferable to a list, as deque provides an O(1) time complexity for append and pop operations as compared to list which provides O(n) time complexity."
   ]
  },
  {
   "cell_type": "code",
   "execution_count": 23,
   "id": "3a0899f4",
   "metadata": {},
   "outputs": [
    {
     "data": {
      "text/plain": [
       "deque([0, 0, 0])"
      ]
     },
     "execution_count": 23,
     "metadata": {},
     "output_type": "execute_result"
    }
   ],
   "source": [
    "from collections import deque\n",
    "\n",
    "d = deque([0,0,0])\n",
    "d"
   ]
  },
  {
   "cell_type": "code",
   "execution_count": 24,
   "id": "e80fb2e8",
   "metadata": {},
   "outputs": [
    {
     "data": {
      "text/plain": [
       "deque([0, 0, 0, 1])"
      ]
     },
     "execution_count": 24,
     "metadata": {},
     "output_type": "execute_result"
    }
   ],
   "source": [
    "d.append(1)\n",
    "d"
   ]
  },
  {
   "cell_type": "code",
   "execution_count": 25,
   "id": "cf443641",
   "metadata": {},
   "outputs": [
    {
     "data": {
      "text/plain": [
       "deque([2, 0, 0, 0, 1])"
      ]
     },
     "execution_count": 25,
     "metadata": {},
     "output_type": "execute_result"
    }
   ],
   "source": [
    "d.appendleft(2)\n",
    "d"
   ]
  },
  {
   "cell_type": "code",
   "execution_count": 26,
   "id": "90cd5077",
   "metadata": {},
   "outputs": [
    {
     "data": {
      "text/plain": [
       "deque([2, 0, 0, 0])"
      ]
     },
     "execution_count": 26,
     "metadata": {},
     "output_type": "execute_result"
    }
   ],
   "source": [
    "d.pop()\n",
    "d"
   ]
  },
  {
   "cell_type": "code",
   "execution_count": 27,
   "id": "4a350ab0",
   "metadata": {},
   "outputs": [
    {
     "data": {
      "text/plain": [
       "deque([0, 0, 0])"
      ]
     },
     "execution_count": 27,
     "metadata": {},
     "output_type": "execute_result"
    }
   ],
   "source": [
    "d.popleft()\n",
    "d"
   ]
  },
  {
   "cell_type": "code",
   "execution_count": 28,
   "id": "d786eb90",
   "metadata": {},
   "outputs": [
    {
     "data": {
      "text/plain": [
       "deque([])"
      ]
     },
     "execution_count": 28,
     "metadata": {},
     "output_type": "execute_result"
    }
   ],
   "source": [
    "d.clear()\n",
    "d"
   ]
  },
  {
   "cell_type": "code",
   "execution_count": 29,
   "id": "f5a8a922",
   "metadata": {},
   "outputs": [
    {
     "data": {
      "text/plain": [
       "deque([1, 2, 3, 'tail'])"
      ]
     },
     "execution_count": 29,
     "metadata": {},
     "output_type": "execute_result"
    }
   ],
   "source": [
    "d.extend([1,2,3,'tail'])\n",
    "d"
   ]
  },
  {
   "cell_type": "code",
   "execution_count": 30,
   "id": "16c7c6c6",
   "metadata": {},
   "outputs": [
    {
     "data": {
      "text/plain": [
       "deque(['head', 0, 1, 2, 3, 'tail'])"
      ]
     },
     "execution_count": 30,
     "metadata": {},
     "output_type": "execute_result"
    }
   ],
   "source": [
    "d.extendleft([0, 'head'])\n",
    "d"
   ]
  },
  {
   "cell_type": "code",
   "execution_count": 31,
   "id": "7a79982e",
   "metadata": {},
   "outputs": [
    {
     "data": {
      "text/plain": [
       "deque(['tail', 'head', 0, 1, 2, 3])"
      ]
     },
     "execution_count": 31,
     "metadata": {},
     "output_type": "execute_result"
    }
   ],
   "source": [
    "d.rotate()\n",
    "d"
   ]
  },
  {
   "cell_type": "code",
   "execution_count": 32,
   "id": "5e0c30e7",
   "metadata": {},
   "outputs": [
    {
     "data": {
      "text/plain": [
       "deque(['head', 0, 1, 2, 3, 'tail'])"
      ]
     },
     "execution_count": 32,
     "metadata": {},
     "output_type": "execute_result"
    }
   ],
   "source": [
    "d.rotate(-1)\n",
    "d"
   ]
  },
  {
   "cell_type": "markdown",
   "id": "da113545",
   "metadata": {},
   "source": [
    "### Itertools: product, permutations, combinations, accumulate, groupby and infinite iterations"
   ]
  },
  {
   "cell_type": "markdown",
   "id": "d8c8eed6",
   "metadata": {},
   "source": [
    "#### product\n",
    "product() is used to find the cartesian product from the given iterator, output is lexicographic ordered. "
   ]
  },
  {
   "cell_type": "code",
   "execution_count": 33,
   "id": "04e5a992",
   "metadata": {},
   "outputs": [
    {
     "name": "stdout",
     "output_type": "stream",
     "text": [
      "[(1, 3), (1, 4), (2, 3), (2, 4)]\n"
     ]
    }
   ],
   "source": [
    "from itertools import product\n",
    "\n",
    "a = [1, 2]\n",
    "b = [3, 4]\n",
    "prod = product(a, b) #-> iterable of cartesian product of a and b.\n",
    "print(list(prod))"
   ]
  },
  {
   "cell_type": "markdown",
   "id": "fc87ae35",
   "metadata": {},
   "source": [
    "|a x b | 1 | 2   |\n",
    "| --- | --- | --- |\n",
    "|3|(1, 3)|(2, 3)|\n",
    "|4|(1, 4)|(2, 4)|"
   ]
  },
  {
   "cell_type": "code",
   "execution_count": 34,
   "id": "210ef6de",
   "metadata": {},
   "outputs": [
    {
     "name": "stdout",
     "output_type": "stream",
     "text": [
      "[(1, 3), (2, 3)]\n"
     ]
    }
   ],
   "source": [
    "a = [1, 2]\n",
    "b = [3]\n",
    "prod = product(a, b)\n",
    "print(list(prod))"
   ]
  },
  {
   "cell_type": "code",
   "execution_count": 35,
   "id": "afe42da6",
   "metadata": {},
   "outputs": [
    {
     "name": "stdout",
     "output_type": "stream",
     "text": [
      "[(1, 3, 1, 3), (1, 3, 2, 3), (2, 3, 1, 3), (2, 3, 2, 3)]\n"
     ]
    }
   ],
   "source": [
    "print(list(product(a,b, repeat=2)))"
   ]
  },
  {
   "cell_type": "markdown",
   "id": "ba8b7275",
   "metadata": {},
   "source": [
    "#### permutations\n",
    "A permutation is a mathematical technique that determines the number of possible arrangements in a set when ***the order of the arrangements matters***. <br> P(n,r) = n!(n-r)!"
   ]
  },
  {
   "cell_type": "code",
   "execution_count": 36,
   "id": "35c73710",
   "metadata": {},
   "outputs": [
    {
     "name": "stdout",
     "output_type": "stream",
     "text": [
      "[(1, 2, 3), (1, 3, 2), (2, 1, 3), (2, 3, 1), (3, 1, 2), (3, 2, 1)]\n"
     ]
    }
   ],
   "source": [
    "from itertools import permutations\n",
    "\n",
    "a = [1,2,3]\n",
    "perm = permutations(a)\n",
    "\n",
    "print(list(perm)) #-> list of an iterable with all possible arrangement of [1,2,3] with no repetitions"
   ]
  },
  {
   "cell_type": "code",
   "execution_count": 37,
   "id": "2a67a756",
   "metadata": {},
   "outputs": [
    {
     "name": "stdout",
     "output_type": "stream",
     "text": [
      "[(1, 2), (1, 3), (2, 1), (2, 3), (3, 1), (3, 2)]\n"
     ]
    }
   ],
   "source": [
    "perm = permutations(a, 2) \n",
    "\n",
    "print(list(perm)) #->  list of all possible arrangement of 2 elements from [1,2,3] with no repetitions of elts"
   ]
  },
  {
   "cell_type": "markdown",
   "id": "24056257",
   "metadata": {},
   "source": [
    "#### combinations\n",
    "A combination is a mathematical technique that determines the number of possible arrangements in a collection of items where ***the order of the selection does not matter***."
   ]
  },
  {
   "cell_type": "code",
   "execution_count": 38,
   "id": "0b463cdd",
   "metadata": {},
   "outputs": [
    {
     "name": "stdout",
     "output_type": "stream",
     "text": [
      "[(1, 2), (1, 3), (2, 3)]\n"
     ]
    }
   ],
   "source": [
    "from itertools import combinations\n",
    "\n",
    "a = [1, 2, 3]\n",
    "comb = combinations(a, 2) #-> second argument is an obligatory parameter\n",
    "\n",
    "print(list(comb)) #-> all possible combinations of 2 elements from a with no repetitions of elts and no care for order"
   ]
  },
  {
   "cell_type": "markdown",
   "id": "0e153f4a",
   "metadata": {},
   "source": [
    "#### combinations with replacement\n",
    "Combination with replacement in probability is selecting an object from an unordered list multiple times."
   ]
  },
  {
   "cell_type": "code",
   "execution_count": 39,
   "id": "9391ae6f",
   "metadata": {},
   "outputs": [
    {
     "name": "stdout",
     "output_type": "stream",
     "text": [
      "[(1, 1), (1, 2), (1, 3), (2, 2), (2, 3), (3, 3)]\n"
     ]
    }
   ],
   "source": [
    "from itertools import combinations_with_replacement\n",
    "\n",
    "a = [1, 2, 3]\n",
    "combwr = combinations_with_replacement(a, 2)\n",
    "\n",
    "print(list(combwr))  #-> all possible combinations of 2 elements from a with repetitions of elts and no care for order"
   ]
  },
  {
   "cell_type": "markdown",
   "id": "660ac1d2",
   "metadata": {},
   "source": [
    "#### accumulate\n",
    "This iterator takes two arguments, iterable target and the function which would be followed at each iteration of value in target. If no function is passed, addition takes place by default. "
   ]
  },
  {
   "cell_type": "code",
   "execution_count": 40,
   "id": "c44f722d",
   "metadata": {},
   "outputs": [
    {
     "data": {
      "text/plain": [
       "[2, 5, 9, 14, 20]"
      ]
     },
     "execution_count": 40,
     "metadata": {},
     "output_type": "execute_result"
    }
   ],
   "source": [
    "from itertools import accumulate\n",
    "import operator\n",
    "\n",
    "a = [2, 3, 4, 5, 6]\n",
    "\n",
    "acc = accumulate(a)\n",
    "list(acc)"
   ]
  },
  {
   "cell_type": "code",
   "execution_count": 41,
   "id": "50302eab",
   "metadata": {},
   "outputs": [
    {
     "data": {
      "text/plain": [
       "[2, 6, 24, 120, 720]"
      ]
     },
     "execution_count": 41,
     "metadata": {},
     "output_type": "execute_result"
    }
   ],
   "source": [
    "acc = accumulate(a, operator.mul)\n",
    "list(acc)"
   ]
  },
  {
   "cell_type": "code",
   "execution_count": 42,
   "id": "1ab367ce",
   "metadata": {},
   "outputs": [
    {
     "data": {
      "text/plain": [
       "[2, 2, 2, 2, 2]"
      ]
     },
     "execution_count": 42,
     "metadata": {},
     "output_type": "execute_result"
    }
   ],
   "source": [
    "acc = accumulate(a, min)\n",
    "list(acc)"
   ]
  },
  {
   "cell_type": "markdown",
   "id": "d4602ee3",
   "metadata": {},
   "source": [
    "#### groupby\n",
    "This method calculates the keys for each element present in iterable. It returns key and iterable of grouped items. <br>\n",
    "***note:*** THE INPUT DATA NEEDS TO BE SORTED!"
   ]
  },
  {
   "cell_type": "code",
   "execution_count": 48,
   "id": "d4e9d709",
   "metadata": {},
   "outputs": [
    {
     "data": {
      "text/plain": [
       "<itertools.groupby at 0x2307c605260>"
      ]
     },
     "execution_count": 48,
     "metadata": {},
     "output_type": "execute_result"
    }
   ],
   "source": [
    "from itertools import groupby\n",
    "\n",
    "person = [ {'name': 'Jim', 'age': 25},  {'name': 'Daniel', 'age':25},\n",
    "           {'name':'Mary', 'age': 27},  {'name': 'Clara', 'age':24} ]\n",
    "\n",
    "groupobj = groupby(person, key=lambda x: x['age'])\n",
    "groupobj"
   ]
  },
  {
   "cell_type": "code",
   "execution_count": 49,
   "id": "7c36a97a",
   "metadata": {},
   "outputs": [
    {
     "name": "stdout",
     "output_type": "stream",
     "text": [
      "25 [{'name': 'Jim', 'age': 25}, {'name': 'Daniel', 'age': 25}]\n",
      "27 [{'name': 'Mary', 'age': 27}]\n",
      "24 [{'name': 'Clara', 'age': 24}]\n"
     ]
    }
   ],
   "source": [
    "for k, v in groupobj:\n",
    "    print(k, list(v))"
   ]
  },
  {
   "cell_type": "markdown",
   "id": "a599e1be",
   "metadata": {},
   "source": [
    "#### Infinite Iterators"
   ]
  },
  {
   "cell_type": "code",
   "execution_count": 51,
   "id": "b239cc0b",
   "metadata": {},
   "outputs": [
    {
     "name": "stdout",
     "output_type": "stream",
     "text": [
      "10\n",
      "11\n",
      "12\n",
      "13\n",
      "14\n",
      "15\n",
      "stop\n"
     ]
    }
   ],
   "source": [
    "from itertools import count, cycle, repeat\n",
    "\n",
    "for i in count(10): #infinite loop starting the count from 10\n",
    "    print(i)\n",
    "    if i == 15:\n",
    "        print('stop')\n",
    "        break"
   ]
  },
  {
   "cell_type": "code",
   "execution_count": 53,
   "id": "273c9725",
   "metadata": {},
   "outputs": [
    {
     "name": "stdout",
     "output_type": "stream",
     "text": [
      "1\n",
      "2\n",
      "3\n",
      "1\n",
      "2\n",
      "3\n"
     ]
    }
   ],
   "source": [
    "sum = 0\n",
    "for i in cycle([1, 2, 3]): #infinite loop that cycle on 1, 2, 3\n",
    "    print(i)\n",
    "    sum +=1\n",
    "    if sum == 6:\n",
    "        break"
   ]
  },
  {
   "cell_type": "code",
   "execution_count": 54,
   "id": "740e19d6",
   "metadata": {},
   "outputs": [
    {
     "name": "stdout",
     "output_type": "stream",
     "text": [
      "no\n",
      "no\n",
      "no\n",
      "no\n"
     ]
    }
   ],
   "source": [
    "sum = 0\n",
    "for i in repeat('no'):\n",
    "    print(i)\n",
    "    sum += 1\n",
    "    if sum == 4:\n",
    "        break"
   ]
  },
  {
   "cell_type": "code",
   "execution_count": 55,
   "id": "831a44cc",
   "metadata": {},
   "outputs": [
    {
     "name": "stdout",
     "output_type": "stream",
     "text": [
      "no\n",
      "no\n",
      "no\n",
      "no\n"
     ]
    }
   ],
   "source": [
    "for i in repeat('no', 4):\n",
    "    print(i)"
   ]
  },
  {
   "cell_type": "markdown",
   "id": "380cfcf1",
   "metadata": {},
   "source": [
    "### Lambda\n",
    "Functions!"
   ]
  },
  {
   "cell_type": "code",
   "execution_count": 56,
   "id": "e9887641",
   "metadata": {},
   "outputs": [
    {
     "name": "stdout",
     "output_type": "stream",
     "text": [
      "20\n"
     ]
    }
   ],
   "source": [
    "add10 = lambda x: x+10\n",
    "print(add10(10))"
   ]
  },
  {
   "cell_type": "code",
   "execution_count": 61,
   "id": "60b78895",
   "metadata": {},
   "outputs": [
    {
     "data": {
      "text/plain": [
       "[(0, 2), (0, 3), (0, 4), (1, 2), (1, 3), (1, 4), (2, 2), (2, 3), (2, 4)]"
      ]
     },
     "execution_count": 61,
     "metadata": {},
     "output_type": "execute_result"
    }
   ],
   "source": [
    "points = [(i, y) for i in range(0,3) for y in range(2,5)]\n",
    "points"
   ]
  },
  {
   "cell_type": "code",
   "execution_count": 62,
   "id": "ec8255f1",
   "metadata": {},
   "outputs": [
    {
     "data": {
      "text/plain": [
       "[(0, 2), (1, 2), (2, 2), (0, 3), (1, 3), (2, 3), (0, 4), (1, 4), (2, 4)]"
      ]
     },
     "execution_count": 62,
     "metadata": {},
     "output_type": "execute_result"
    }
   ],
   "source": [
    "points_S = sorted(points, key= lambda x: x[1])\n",
    "points_S"
   ]
  },
  {
   "cell_type": "code",
   "execution_count": 66,
   "id": "0dcc93a4",
   "metadata": {},
   "outputs": [
    {
     "data": {
      "text/plain": [
       "[1, 2, 3, 4, 5]"
      ]
     },
     "execution_count": 66,
     "metadata": {},
     "output_type": "execute_result"
    }
   ],
   "source": [
    "a = list(range(1,6))\n",
    "a"
   ]
  },
  {
   "cell_type": "markdown",
   "id": "d52e7e11",
   "metadata": {},
   "source": [
    "***map + lambda***"
   ]
  },
  {
   "cell_type": "code",
   "execution_count": 65,
   "id": "344c6924",
   "metadata": {},
   "outputs": [
    {
     "data": {
      "text/plain": [
       "[2, 4, 6, 8, 10]"
      ]
     },
     "execution_count": 65,
     "metadata": {},
     "output_type": "execute_result"
    }
   ],
   "source": [
    "b = map(lambda x: x*2, a)\n",
    "list(b)"
   ]
  },
  {
   "cell_type": "markdown",
   "id": "f2562fcd",
   "metadata": {},
   "source": [
    "***filter + lambda***"
   ]
  },
  {
   "cell_type": "code",
   "execution_count": 67,
   "id": "63381c8c",
   "metadata": {},
   "outputs": [
    {
     "data": {
      "text/plain": [
       "[2, 4]"
      ]
     },
     "execution_count": 67,
     "metadata": {},
     "output_type": "execute_result"
    }
   ],
   "source": [
    "b = filter(lambda x: x%2 == 0, a)\n",
    "list(b)"
   ]
  },
  {
   "cell_type": "markdown",
   "id": "507dca81",
   "metadata": {},
   "source": [
    "***reduce + lambda***"
   ]
  },
  {
   "cell_type": "code",
   "execution_count": 68,
   "id": "d3a1e44f",
   "metadata": {},
   "outputs": [
    {
     "data": {
      "text/plain": [
       "120"
      ]
     },
     "execution_count": 68,
     "metadata": {},
     "output_type": "execute_result"
    }
   ],
   "source": [
    "from functools import reduce\n",
    "b = reduce(lambda x, y: x*y, a)\n",
    "b"
   ]
  }
 ],
 "metadata": {
  "kernelspec": {
   "display_name": "Python 3 (ipykernel)",
   "language": "python",
   "name": "python3"
  },
  "language_info": {
   "codemirror_mode": {
    "name": "ipython",
    "version": 3
   },
   "file_extension": ".py",
   "mimetype": "text/x-python",
   "name": "python",
   "nbconvert_exporter": "python",
   "pygments_lexer": "ipython3",
   "version": "3.10.5"
  }
 },
 "nbformat": 4,
 "nbformat_minor": 5
}
